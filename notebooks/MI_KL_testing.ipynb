{
 "cells": [
  {
   "cell_type": "code",
   "execution_count": 2,
   "metadata": {},
   "outputs": [
    {
     "name": "stdout",
     "output_type": "stream",
     "text": [
      "The autoreload extension is already loaded. To reload it, use:\n",
      "  %reload_ext autoreload\n"
     ]
    }
   ],
   "source": [
    "import sys\n",
    "sys.path.append('../')\n",
    "\n",
    "import torch\n",
    "import torch.nn as nn\n",
    "from torch.optim import Adam, SGD\n",
    "from torch.utils.data import DataLoader\n",
    "from torch.utils.data import sampler\n",
    "\n",
    "import torchvision.datasets as dset\n",
    "import torchvision.transforms as T\n",
    "import torch.nn.functional as F\n",
    "import torch.distributions as D\n",
    "\n",
    "import numpy as np\n",
    "import pandas as pd\n",
    "import os\n",
    "import glob\n",
    "import tqdm\n",
    "import matplotlib.pyplot as plt\n",
    "import seaborn as sns\n",
    "import sklearn\n",
    "\n",
    "from data import *\n",
    "from models import *\n",
    "\n",
    "eps = np.finfo(float).eps\n",
    "\n",
    "plt.rcParams['figure.figsize'] = 10, 10\n",
    "%matplotlib inline\n",
    "\n",
    "%load_ext autoreload\n",
    "%autoreload 2"
   ]
  },
  {
   "cell_type": "code",
   "execution_count": 3,
   "metadata": {},
   "outputs": [],
   "source": [
    "def kl_loss_funct(mu_i, std_i, mu_j, std_j):\n",
    "    \n",
    "    p_i = D.independent.Independent(D.normal.Normal(mu_i, std_i), 1)\n",
    "    p_j = D.independent.Independent(D.normal.Normal(mu_j, std_j), 1)\n",
    "\n",
    "    z_i = p_i.rsample()\n",
    "    z_j = p_j.rsample()\n",
    "\n",
    "    kl_1_2 = p_i.log_prob(z_i) - p_j.log_prob(z_i)\n",
    "    kl_2_1 = p_j.log_prob(z_j) - p_i.log_prob(z_j)\n",
    "    \n",
    "    kl_loss = (kl_1_2 + kl_2_1).mean() / 2\n",
    "    return kl_loss\n",
    "\n",
    "def theoretical_kl(mu_i, std_i, mu_j, std_j):\n",
    "    kl = np.log(std_j / std_i) + (std_i ** 2 + (mu_i - mu_j) ** 2) / (2 * std_j ** 2) - 0.5\n",
    "    return kl"
   ]
  },
  {
   "cell_type": "code",
   "execution_count": 64,
   "metadata": {},
   "outputs": [
    {
     "name": "stdout",
     "output_type": "stream",
     "text": [
      "True kl: 0.18324288588594217\n"
     ]
    }
   ],
   "source": [
    "mu1 = 0.\n",
    "mu2 = 0.5\n",
    "std1 = 1.\n",
    "std2 = 1.5\n",
    "\n",
    "mi = 1/2 *(np.log(1. + ( 1/(std2 ** 2) )))\n",
    "kl = np.log(std2 / std1) + (std1 ** 2 + (mu1 - mu2) ** 2) / (2 * std2 ** 2) - 0.5\n",
    "\n",
    "print('True kl: {}'.format(kl))"
   ]
  },
  {
   "cell_type": "code",
   "execution_count": 10,
   "metadata": {},
   "outputs": [
    {
     "name": "stdout",
     "output_type": "stream",
     "text": [
      "GPU\n"
     ]
    }
   ],
   "source": [
    "use_cuda = True\n",
    "\n",
    "if use_cuda:\n",
    "    dtype = torch.cuda.FloatTensor\n",
    "    device = torch.device(\"cuda\")\n",
    "    torch.cuda.set_device(0)\n",
    "    print('GPU')\n",
    "else:\n",
    "    dtype = torch.FloatTensor\n",
    "    device = torch.device(\"cpu\")"
   ]
  },
  {
   "cell_type": "code",
   "execution_count": 20,
   "metadata": {},
   "outputs": [],
   "source": [
    "class SimpleNet(nn.Module):\n",
    "    def __init__(self):\n",
    "        super(SimpleNet, self).__init__()\n",
    "        self.mu_encoder = nn.Sequential(\n",
    "            nn.Linear(256, 256),\n",
    "            nn.ReLU(),\n",
    "            nn.Linear(256, 256),\n",
    "            nn.ReLU(),\n",
    "            nn.Linear(256, 128),\n",
    "            nn.ReLU(),\n",
    "        )\n",
    "\n",
    "    def forward(self, x):\n",
    "        mu = self.mu_encoder(x)\n",
    "        return mu\n",
    "    \n",
    "def init_normal(m):\n",
    "    if type(m) == nn.Linear:\n",
    "        torch.nn.init.normal_(m.weight)\n",
    "        m.bias.data.fill_(0.001)\n",
    "        \n",
    "        \n",
    "def pos_neg_kl2(mu_i, std_i, mu_j, std_j):\n",
    "    batch_sz = mu_i.size(0)\n",
    "    \n",
    "    pos_kl = kl_loss_funct(mu_i, std_i, mu_j, std_j)\n",
    "    \n",
    "    ind = torch.randperm(batch_sz).long()\n",
    "    mu_j = torch.roll(mu_j, 1, 0)\n",
    "    std_j = torch.roll(std_j, 1, 0)\n",
    "    \n",
    "    neg_kl = kl_loss_funct(mu_i, std_i, mu_j, std_j)\n",
    "    \n",
    "    return pos_kl - neg_kl\n",
    "    "
   ]
  },
  {
   "cell_type": "code",
   "execution_count": 21,
   "metadata": {},
   "outputs": [
    {
     "name": "stdout",
     "output_type": "stream",
     "text": [
      "Epoch: 0\n",
      "Epoch: 100\n",
      "Epoch: 200\n",
      "Epoch: 300\n",
      "Epoch: 400\n"
     ]
    }
   ],
   "source": [
    "model = SimpleNet().type(dtype)\n",
    "model.apply(init_normal)\n",
    "mi_estimator = MiEstimator(128, 128, 128).type(dtype)\n",
    "\n",
    "optimizer = torch.optim.Adam(model.parameters(), lr=0.01)\n",
    "mi_optimizer = torch.optim.Adam(mi_estimator.parameters(), lr=0.01)\n",
    "\n",
    "n_epoch = 500\n",
    "mu1 = 0.\n",
    "mu2 = 0.5\n",
    "std1 = 1.\n",
    "std2 = 1.5\n",
    "\n",
    "kl_hist = []\n",
    "mib_hist = []\n",
    "\n",
    "model.train()\n",
    "mi_estimator.train()\n",
    "\n",
    "for epoch in range(n_epoch):\n",
    "    if epoch % 100 == 0:\n",
    "        print(\"Epoch: {}\".format(epoch))\n",
    "    x_i = torch.randn(32, 1, 256)\n",
    "    x_j = (x_i + mu2) * std2\n",
    "    \n",
    "    x_i = x_i.cuda() if use_cuda else x_i\n",
    "    x_j = x_j.cuda() if use_cuda else x_j\n",
    "        \n",
    "    mu_i = model(x_i).squeeze(1)\n",
    "    mu_j = model(x_j).squeeze(1)\n",
    "    \n",
    "    std_i = torch.std(x_i, 2)\n",
    "    std_j = torch.std(x_j, 2)\n",
    "    \n",
    "    grad, mi_out = mi_estimator(mu_i, mu_j)\n",
    "    mi_out *= -1.\n",
    "\n",
    "    kl2 = -pos_neg_kl2(mu_i, std_i, mu_j, std_j)\n",
    "    \n",
    "    mib_loss = mi_out + kl2\n",
    "\n",
    "    model.zero_grad()\n",
    "    mib_loss.backward(retain_graph=True)\n",
    "    optimizer.step()\n",
    "    \n",
    "    mi_estimator.zero_grad()\n",
    "    mi_out.backward()\n",
    "    mi_optimizer.step()\n",
    "    \n",
    "    mib_hist.append(mib_loss.item())\n",
    "    kl_hist.append(kl2.item())\n"
   ]
  },
  {
   "cell_type": "code",
   "execution_count": 22,
   "metadata": {},
   "outputs": [
    {
     "data": {
      "text/plain": [
       "[<matplotlib.lines.Line2D at 0x7efdd1990160>]"
      ]
     },
     "execution_count": 22,
     "metadata": {},
     "output_type": "execute_result"
    },
    {
     "data": {
      "image/png": "[encoded data removed]",
      "text/plain": [
       "<Figure size 432x288 with 1 Axes>"
      ]
     },
     "metadata": {},
     "output_type": "display_data"
    }
   ],
   "source": [
    "sns.set()\n",
    "plt.plot(kl_hist)"
   ]
  },
  {
   "cell_type": "code",
   "execution_count": 23,
   "metadata": {},
   "outputs": [
    {
     "data": {
      "text/plain": [
       "[<matplotlib.lines.Line2D at 0x7efdd18e7668>]"
      ]
     },
     "execution_count": 23,
     "metadata": {},
     "output_type": "execute_result"
    },
    {
     "data": {
      "image/png": "[encoded data removed]",
      "text/plain": [
       "<Figure size 432x288 with 1 Axes>"
      ]
     },
     "metadata": {},
     "output_type": "display_data"
    }
   ],
   "source": [
    "sns.set()\n",
    "plt.plot(mib_hist)"
   ]
  },
  {
   "cell_type": "markdown",
   "metadata": {},
   "source": [
    "### CIFAR testing"
   ]
  },
  {
   "cell_type": "code",
   "execution_count": 29,
   "metadata": {},
   "outputs": [
    {
     "name": "stdout",
     "output_type": "stream",
     "text": [
      "Files already downloaded and verified\n",
      "Files already downloaded and verified\n"
     ]
    }
   ],
   "source": [
    "# Datasets\n",
    "train_transforms = cifar_train_transforms()\n",
    "test_transforms = cifar_test_transforms()\n",
    "target_transforms = None\n",
    "\n",
    "loader = Loader('CIFAR10C', 'data', True, 8, train_transforms, test_transforms, None, use_cuda)\n",
    "train_loader = loader.train_loader"
   ]
  },
  {
   "cell_type": "code",
   "execution_count": 30,
   "metadata": {},
   "outputs": [],
   "source": [
    "def kl_loss_funct(mu_i, std_i, mu_j, std_j):\n",
    "    \n",
    "    p_i = D.independent.Independent(D.normal.Normal(mu_i, std_i), 1)\n",
    "    p_j = D.independent.Independent(D.normal.Normal(mu_j, std_j), 1)\n",
    "\n",
    "    z_i = p_i.rsample()\n",
    "    z_j = p_j.rsample()\n",
    "\n",
    "    kl_1_2 = p_i.log_prob(z_i) - p_j.log_prob(z_i)\n",
    "    kl_2_1 = p_j.log_prob(z_j) - p_i.log_prob(z_j)\n",
    "    \n",
    "    kl_loss = (kl_1_2 + kl_2_1).mean() / 2\n",
    "    return kl_loss\n",
    "\n",
    "\n",
    "def theoretical_kl(mu_i, std_i, mu_j, std_j):\n",
    "    kl = np.log(std_j / std_i) + (std_i ** 2 + (mu_i - mu_j) ** 2) / (2 * std_j ** 2) - 0.5\n",
    "    return kl\n",
    "\n",
    "\n",
    "def pos_neg_kl2(mu_i, std_i, mu_j, std_j):\n",
    "    batch_sz = mu_i.size(0)\n",
    "    \n",
    "    pos_kl = kl_loss_funct(mu_i, std_i, mu_j, std_j)\n",
    "    \n",
    "    ind = torch.randperm(batch_sz).long()\n",
    "    mu_j = torch.roll(mu_j, 1, 0)\n",
    "    std_j = torch.roll(std_j, 1, 0)\n",
    "    \n",
    "    neg_kl = kl_loss_funct(mu_i, std_i, mu_j, std_j)\n",
    "    \n",
    "    return -pos_kl + neg_kl\n",
    "    \n",
    "\n",
    "def pos_neg_kl1(mu_i, std_i, mu_j, std_j):\n",
    "    pos_kl = np.log(std_j / std_i) + (std_i ** 2 + (mu_i - mu_j) ** 2) / (2 * std_j ** 2) - 0.5\n",
    "    \n",
    "    batch_sz = mu_i.size(0)\n",
    "    ind = torch.randperm(batch_sz).long()\n",
    "    mu_j = mu_j[ind]\n",
    "    std_j = std_j[ind]\n",
    "    \n",
    "    neg_kl = np.log(std_j / std_i) + (std_i ** 2 + (mu_i - mu_j) ** 2) / (2 * std_j ** 2) - 0.5\n",
    "    \n",
    "    return pos_kl - neg_kl"
   ]
  },
  {
   "cell_type": "code",
   "execution_count": 36,
   "metadata": {},
   "outputs": [
    {
     "name": "stdout",
     "output_type": "stream",
     "text": [
      "Epoch 0\n",
      "Epoch 1\n",
      "Epoch 2\n"
     ]
    }
   ],
   "source": [
    "model = SimpleFeatureEncoderNet().type(dtype)\n",
    "model.apply(init_normal)\n",
    "n_epoch = 3\n",
    "model.train()\n",
    "optimizer = torch.optim.Adam(model.parameters(), lr=0.01)\n",
    "\n",
    "kl_hist = []\n",
    "true_kl = []\n",
    "all_diff = []\n",
    "for epoch in range(n_epoch):\n",
    "    print(\"Epoch {}\".format(epoch))\n",
    "    for i, (x_i, x_j, _) in enumerate(train_loader):\n",
    "\n",
    "        x_i = x_i.cuda() if use_cuda else x_i\n",
    "        x_j = x_j.cuda() if use_cuda else x_j\n",
    "\n",
    "        _, mu_i, std_i = model(x_i)\n",
    "        _, mu_j, std_j = model(x_j)\n",
    "\n",
    "#         std_i = torch.zeros_like(mu_i) + 0.2023\n",
    "#         std_j = torch.zeros_like(mu_i) + 0.2023\n",
    "        \n",
    "        std_i = std_i.cuda() if use_cuda else std_i\n",
    "        std_j = std_j.cuda() if use_cuda else std_j\n",
    "        \n",
    "        kl2 = pos_neg_kl2(mu_i, std_i, mu_j, std_j)\n",
    "\n",
    "        model.zero_grad()\n",
    "        kl2.backward()\n",
    "        optimizer.step()\n",
    "\n",
    "        # theoretical kl\n",
    "        kl = theoretical_kl(mu_i.mean().cpu().detach().numpy(), std_i.mean().cpu().detach().numpy(), \n",
    "                            mu_j.mean().cpu().detach().numpy(), std_j.mean().cpu().detach().numpy())\n",
    "\n",
    "        true_kl.append(kl.item())\n",
    "        kl_hist.append(kl2.item())\n"
   ]
  },
  {
   "cell_type": "code",
   "execution_count": 42,
   "metadata": {},
   "outputs": [
    {
     "data": {
      "text/plain": [
       "[<matplotlib.lines.Line2D at 0x7fc9bf5696d8>]"
      ]
     },
     "execution_count": 42,
     "metadata": {},
     "output_type": "execute_result"
    },
    {
     "data": {
      "image/png": "[encoded data removed]",
      "text/plain": [
       "<Figure size 432x288 with 1 Axes>"
      ]
     },
     "metadata": {},
     "output_type": "display_data"
    }
   ],
   "source": [
    "sns.set()\n",
    "plt.plot(kl_hist)"
   ]
  },
  {
   "cell_type": "code",
   "execution_count": 38,
   "metadata": {},
   "outputs": [
    {
     "data": {
      "text/plain": [
       "[<matplotlib.lines.Line2D at 0x7fc9bf7e5780>]"
      ]
     },
     "execution_count": 38,
     "metadata": {},
     "output_type": "execute_result"
    },
    {
     "data": {
      "image/png": "[encoded data removed]",
      "text/plain": [
       "<Figure size 432x288 with 1 Axes>"
      ]
     },
     "metadata": {},
     "output_type": "display_data"
    }
   ],
   "source": [
    "sns.set()\n",
    "plt.plot(true_kl)"
   ]
  },
  {
   "cell_type": "code",
   "execution_count": null,
   "metadata": {},
   "outputs": [],
   "source": [
    "# kl with positive and negative pairs\n",
    "# mi implementation"
   ]
  }
 ],
 "metadata": {
  "kernelspec": {
   "display_name": "Python 3",
   "language": "python",
   "name": "python3"
  },
  "language_info": {
   "codemirror_mode": {
    "name": "ipython",
    "version": 3
   },
   "file_extension": ".py",
   "mimetype": "text/x-python",
   "name": "python",
   "nbconvert_exporter": "python",
   "pygments_lexer": "ipython3",
   "version": "3.6.8"
  }
 },
 "nbformat": 4,
 "nbformat_minor": 2
}
