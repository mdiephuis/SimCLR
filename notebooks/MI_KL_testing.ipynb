{
 "cells": [
  {
   "cell_type": "code",
   "execution_count": 6,
   "metadata": {},
   "outputs": [
    {
     "name": "stdout",
     "output_type": "stream",
     "text": [
      "The autoreload extension is already loaded. To reload it, use:\n",
      "  %reload_ext autoreload\n"
     ]
    }
   ],
   "source": [
    "import sys\n",
    "sys.path.append('../')\n",
    "\n",
    "import torch\n",
    "import torch.nn as nn\n",
    "from torch.optim import Adam, SGD\n",
    "from torch.utils.data import DataLoader\n",
    "from torch.utils.data import sampler\n",
    "\n",
    "import torchvision.datasets as dset\n",
    "import torchvision.transforms as T\n",
    "import torch.nn.functional as F\n",
    "import torch.distributions as D\n",
    "\n",
    "import numpy as np\n",
    "import pandas as pd\n",
    "import os\n",
    "import glob\n",
    "import tqdm\n",
    "import matplotlib.pyplot as plt\n",
    "import seaborn as sns\n",
    "import sklearn\n",
    "\n",
    "from data import *\n",
    "from models import *\n",
    "\n",
    "eps = np.finfo(float).eps\n",
    "\n",
    "plt.rcParams['figure.figsize'] = 10, 10\n",
    "%matplotlib inline\n",
    "\n",
    "%load_ext autoreload\n",
    "%autoreload 2"
   ]
  },
  {
   "cell_type": "code",
   "execution_count": 7,
   "metadata": {},
   "outputs": [],
   "source": [
    "class SimpleNet(nn.Module):\n",
    "    def __init__(self):\n",
    "        super(SimpleNet, self).__init__()\n",
    "        self.fc = nn.Linear(256, 1)\n",
    "\n",
    "    def forward(self, x):\n",
    "        mu = self.fc(x)\n",
    "        return mu\n",
    "    \n",
    "def init_normal(m):\n",
    "    if type(m) == nn.Linear:\n",
    "        torch.nn.init.normal_(m.weight)\n",
    "        m.bias.data.fill_(0.001)"
   ]
  },
  {
   "cell_type": "code",
   "execution_count": 21,
   "metadata": {},
   "outputs": [],
   "source": [
    "def kl_loss_funct(mu_i, std_i, mu_j, std_j):\n",
    "    \n",
    "    p_i = D.independent.Independent(D.normal.Normal(mu_i, std_i), 1)\n",
    "    p_j = D.independent.Independent(D.normal.Normal(mu_j, std_j), 1)\n",
    "\n",
    "    z_i = p_i.rsample()\n",
    "    z_j = p_j.rsample()\n",
    "\n",
    "    kl_1_2 = p_i.log_prob(z_i) - p_j.log_prob(z_i)\n",
    "    kl_2_1 = p_j.log_prob(z_j) - p_i.log_prob(z_j)\n",
    "    \n",
    "    kl_loss = (kl_1_2 + kl_2_1).mean() / 2\n",
    "    return kl_loss\n",
    "\n",
    "def theoretical_kl(mu_i, std_i, mu_j, std_j):\n",
    "    kl = np.log(std_j / std_i) + (std_i ** 2 + (mu_i - mu_j) ** 2) / (2 * std_j ** 2) - 0.5\n",
    "    return kl"
   ]
  },
  {
   "cell_type": "code",
   "execution_count": 161,
   "metadata": {},
   "outputs": [],
   "source": [
    "def simulate():\n",
    "    mu1 = 0.\n",
    "    mu2 = 0.5\n",
    "    std1 = 1.\n",
    "    std2 = 1.5\n",
    "\n",
    "    x_i = torch.randn(32, 1, 256)\n",
    "    x_j = (x_i + mu2) * std2\n",
    "\n",
    "    mi = 1/2 *(np.log(1. + ( 1/(std2 ** 2) )))\n",
    "    kl = np.log(std2 / std1) + (std1 ** 2 + (mu1 - mu2) ** 2) / (2 * std2 ** 2) - 0.5\n",
    "\n",
    "#     print('The theoretical mi: {}'.format(mi))\n",
    "#     print('The theoretical kl: {}'.format(kl))\n",
    "    kl0 = kl\n",
    "\n",
    "    mu_i = torch.mean(x_i, 2)\n",
    "    std_i = torch.std(x_i, 2)\n",
    "\n",
    "    mu_j = torch.mean(x_j, 2)\n",
    "    std_j = torch.std(x_j, 2)\n",
    "\n",
    "    kl1 = kl_loss_funct(mu_i, std_i, mu_j, std_j)\n",
    "#     print('The kl func: {}'.format(kl1))\n",
    "\n",
    "    model = SimpleNet()\n",
    "    model.apply(init_normal)\n",
    "\n",
    "    mu_i = model(x_i).detach().squeeze(1)\n",
    "    mu_j = model(x_j).detach().squeeze(1)\n",
    "\n",
    "    kl2 = kl_loss_funct(mu_i, std_i, mu_j, std_j)\n",
    "#     print('The kl model func: {}'.format(kl2))\n",
    "    return kl0, kl1, kl2\n",
    "\n",
    "all_kl0 = []\n",
    "all_kl1 = []\n",
    "all_kl2 = []\n",
    "for _ in range(1000):\n",
    "    kl0, kl1, kl2 = simulate()\n",
    "    all_kl0.append(kl0)\n",
    "    all_kl1.append(kl1)\n",
    "    all_kl2.append(kl2)"
   ]
  },
  {
   "cell_type": "code",
   "execution_count": 162,
   "metadata": {},
   "outputs": [
    {
     "name": "stderr",
     "output_type": "stream",
     "text": [
      "/Users/Maurits/Development/virtual_env/ML/lib/python3.7/site-packages/statsmodels/nonparametric/kde.py:487: RuntimeWarning: invalid value encountered in true_divide\n",
      "  binned = fast_linbin(X, a, b, gridsize) / (delta * nobs)\n",
      "/Users/Maurits/Development/virtual_env/ML/lib/python3.7/site-packages/statsmodels/nonparametric/kdetools.py:34: RuntimeWarning: invalid value encountered in double_scalars\n",
      "  FAC1 = 2*(np.pi*bw/RANGE)**2\n"
     ]
    },
    {
     "data": {
      "text/plain": [
       "<matplotlib.axes._subplots.AxesSubplot at 0x1395857d0>"
      ]
     },
     "execution_count": 162,
     "metadata": {},
     "output_type": "execute_result"
    },
    {
     "data": {
      "image/png": "[encoded data removed]",
      "text/plain": [
       "<Figure size 432x288 with 1 Axes>"
      ]
     },
     "metadata": {},
     "output_type": "display_data"
    }
   ],
   "source": [
    "sns.distplot(all_kl0)"
   ]
  },
  {
   "cell_type": "code",
   "execution_count": 163,
   "metadata": {},
   "outputs": [
    {
     "data": {
      "text/plain": [
       "<matplotlib.axes._subplots.AxesSubplot at 0x1396e4590>"
      ]
     },
     "execution_count": 163,
     "metadata": {},
     "output_type": "execute_result"
    },
    {
     "data": {
      "image/png": "[encoded data removed]",
      "text/plain": [
       "<Figure size 432x288 with 1 Axes>"
      ]
     },
     "metadata": {},
     "output_type": "display_data"
    }
   ],
   "source": [
    "sns.distplot(all_kl1)"
   ]
  },
  {
   "cell_type": "code",
   "execution_count": 164,
   "metadata": {},
   "outputs": [
    {
     "data": {
      "text/plain": [
       "<matplotlib.axes._subplots.AxesSubplot at 0x1396e4150>"
      ]
     },
     "execution_count": 164,
     "metadata": {},
     "output_type": "execute_result"
    },
    {
     "data": {
      "image/png": "[encoded data removed]",
      "text/plain": [
       "<Figure size 432x288 with 1 Axes>"
      ]
     },
     "metadata": {},
     "output_type": "display_data"
    }
   ],
   "source": [
    "sns.distplot(all_kl2)"
   ]
  },
  {
   "cell_type": "code",
   "execution_count": 168,
   "metadata": {},
   "outputs": [
    {
     "name": "stdout",
     "output_type": "stream",
     "text": [
      "True kl: 0.18324288588594217\n"
     ]
    }
   ],
   "source": [
    "mu1 = 0.\n",
    "mu2 = 0.5\n",
    "std1 = 1.\n",
    "std2 = 1.5\n",
    "\n",
    "mi = 1/2 *(np.log(1. + ( 1/(std2 ** 2) )))\n",
    "kl = np.log(std2 / std1) + (std1 ** 2 + (mu1 - mu2) ** 2) / (2 * std2 ** 2) - 0.5\n",
    "\n",
    "print('True kl: {}'.format(kl))"
   ]
  },
  {
   "cell_type": "code",
   "execution_count": 170,
   "metadata": {},
   "outputs": [],
   "source": [
    "model = SimpleNet()\n",
    "model.apply(init_normal)\n",
    "n_epoch = 1500\n",
    "\n",
    "optimizer = torch.optim.Adam(model.parameters(), lr=0.01)\n",
    "\n",
    "kl_hist = []\n",
    "true_kl = []\n",
    "for epoch in range(n_epoch):\n",
    "\n",
    "    mu1 = 0.\n",
    "    mu2 = 0.5\n",
    "    std1 = 1.\n",
    "    std2 = 1.5\n",
    "\n",
    "    x_i = torch.randn(32, 1, 256)\n",
    "    x_j = (x_i + mu2) * std2\n",
    "    \n",
    "    mu_i = model(x_i).squeeze(1)\n",
    "    mu_j = model(x_j).squeeze(1)\n",
    "    \n",
    "    std_i = torch.std(x_i, 2)\n",
    "    std_j = torch.std(x_j, 2)\n",
    "\n",
    "    kl2 = kl_loss_funct(mu_i, std_i, mu_j, std_j)\n",
    "\n",
    "    model.zero_grad()\n",
    "    kl2.backward()\n",
    "    optimizer.step()\n",
    "    \n",
    "    # theoretical kl\n",
    "    \n",
    "    kl = np.log(std_j.mean() / std_i.mean()) + (std_i.mean() ** 2 + (mu_i.mean() - mu_j.mean()) ** 2) / (2 * std_j.mean() ** 2) - 0.5\n",
    "    \n",
    "    true_kl.append(kl.item())\n",
    "    kl_hist.append(kl2.item())\n"
   ]
  },
  {
   "cell_type": "code",
   "execution_count": 171,
   "metadata": {},
   "outputs": [
    {
     "data": {
      "text/plain": [
       "[<matplotlib.lines.Line2D at 0x139e41090>]"
      ]
     },
     "execution_count": 171,
     "metadata": {},
     "output_type": "execute_result"
    },
    {
     "data": {
      "image/png": "[encoded data removed]",
      "text/plain": [
       "<Figure size 432x288 with 1 Axes>"
      ]
     },
     "metadata": {},
     "output_type": "display_data"
    }
   ],
   "source": [
    "sns.set()\n",
    "plt.plot(kl_hist)"
   ]
  },
  {
   "cell_type": "code",
   "execution_count": 172,
   "metadata": {},
   "outputs": [
    {
     "data": {
      "text/plain": [
       "[<matplotlib.lines.Line2D at 0x139f33410>]"
      ]
     },
     "execution_count": 172,
     "metadata": {},
     "output_type": "execute_result"
    },
    {
     "data": {
      "image/png": "[encoded data removed]",
      "text/plain": [
       "<Figure size 432x288 with 1 Axes>"
      ]
     },
     "metadata": {},
     "output_type": "display_data"
    }
   ],
   "source": [
    "sns.set()\n",
    "plt.plot(true_kl)"
   ]
  },
  {
   "cell_type": "code",
   "execution_count": 173,
   "metadata": {},
   "outputs": [
    {
     "name": "stdout",
     "output_type": "stream",
     "text": [
      "0.1351606845855713\n"
     ]
    }
   ],
   "source": [
    "print(true_kl[-1])"
   ]
  },
  {
   "cell_type": "markdown",
   "metadata": {},
   "source": [
    "### CIFAR testing"
   ]
  },
  {
   "cell_type": "code",
   "execution_count": 4,
   "metadata": {},
   "outputs": [
    {
     "name": "stdout",
     "output_type": "stream",
     "text": [
      "GPU\n"
     ]
    }
   ],
   "source": [
    "use_cuda = True\n",
    "\n",
    "if use_cuda:\n",
    "    dtype = torch.cuda.FloatTensor\n",
    "    device = torch.device(\"cuda\")\n",
    "    torch.cuda.set_device(0)\n",
    "    print('GPU')\n",
    "else:\n",
    "    dtype = torch.FloatTensor\n",
    "    device = torch.device(\"cpu\")"
   ]
  },
  {
   "cell_type": "code",
   "execution_count": 31,
   "metadata": {},
   "outputs": [
    {
     "name": "stdout",
     "output_type": "stream",
     "text": [
      "Files already downloaded and verified\n",
      "Files already downloaded and verified\n"
     ]
    }
   ],
   "source": [
    "# Datasets\n",
    "train_transforms = cifar_train_transforms()\n",
    "test_transforms = cifar_test_transforms()\n",
    "target_transforms = None\n",
    "\n",
    "loader = Loader('CIFAR10C', 'data', True, 8, train_transforms, test_transforms, None, use_cuda)\n",
    "train_loader = loader.train_loader"
   ]
  },
  {
   "cell_type": "code",
   "execution_count": 32,
   "metadata": {},
   "outputs": [],
   "source": [
    "def kl_loss_funct(mu_i, std_i, mu_j, std_j):\n",
    "    \n",
    "    p_i = D.independent.Independent(D.normal.Normal(mu_i, std_i), 1)\n",
    "    p_j = D.independent.Independent(D.normal.Normal(mu_j, std_j), 1)\n",
    "\n",
    "    z_i = p_i.rsample()\n",
    "    z_j = p_j.rsample()\n",
    "\n",
    "    kl_1_2 = p_i.log_prob(z_i) - p_j.log_prob(z_i)\n",
    "    kl_2_1 = p_j.log_prob(z_j) - p_i.log_prob(z_j)\n",
    "    \n",
    "    kl_loss = (kl_1_2 + kl_2_1).mean() / 2\n",
    "    return kl_loss\n",
    "\n",
    "def theoretical_kl(mu_i, std_i, mu_j, std_j):\n",
    "    kl = np.log(std_j / std_i) + (std_i ** 2 + (mu_i - mu_j) ** 2) / (2 * std_j ** 2) - 0.5\n",
    "    return kl"
   ]
  },
  {
   "cell_type": "code",
   "execution_count": 39,
   "metadata": {},
   "outputs": [
    {
     "name": "stdout",
     "output_type": "stream",
     "text": [
      "Epoch 0\n",
      "Epoch 1\n",
      "Epoch 2\n",
      "Epoch 3\n"
     ]
    }
   ],
   "source": [
    "model = SimpleFeatureEncoderNet().type(dtype)\n",
    "model.apply(init_normal)\n",
    "n_epoch = 4\n",
    "model.train()\n",
    "optimizer = torch.optim.Adam(model.parameters(), lr=0.01)\n",
    "\n",
    "kl_hist = []\n",
    "true_kl = []\n",
    "all_diff = []\n",
    "for epoch in range(n_epoch):\n",
    "    print(\"Epoch {}\".format(epoch))\n",
    "    for i, (x_i, x_j, _) in enumerate(train_loader):\n",
    "\n",
    "        x_i = x_i.cuda() if use_cuda else x_i\n",
    "        x_j = x_j.cuda() if use_cuda else x_j\n",
    "\n",
    "        _, mu_i, std_i = model(x_i)\n",
    "        _, mu_j, std_j = model(x_j)\n",
    "        \n",
    "        diff = torch.abs(mu_i - mu_j)\n",
    "        diff = diff.view(-1, 1).mean()\n",
    "        all_diff.append(diff.cpu().detach().numpy())\n",
    "\n",
    "        std_i = torch.zeros_like(mu_i) + 0.2023\n",
    "        std_j = torch.zeros_like(mu_i) + 0.2023\n",
    "        \n",
    "        std_i = std_i.cuda() if use_cuda else std_i\n",
    "        std_j = std_j.cuda() if use_cuda else std_j\n",
    "        \n",
    "        kl2 = kl_loss_funct(mu_i, std_i, mu_j, std_j)\n",
    "\n",
    "        model.zero_grad()\n",
    "        kl2.backward()\n",
    "        optimizer.step()\n",
    "\n",
    "        # theoretical kl\n",
    "        kl = theoretical_kl(mu_i.mean().cpu().detach().numpy(), std_i.mean().cpu().detach().numpy(), \n",
    "                            mu_j.mean().cpu().detach().numpy(), std_j.mean().cpu().detach().numpy())\n",
    "\n",
    "        true_kl.append(kl.item())\n",
    "        kl_hist.append(kl2.item())\n"
   ]
  },
  {
   "cell_type": "code",
   "execution_count": 40,
   "metadata": {},
   "outputs": [
    {
     "data": {
      "text/plain": [
       "[<matplotlib.lines.Line2D at 0x7f2579effd30>]"
      ]
     },
     "execution_count": 40,
     "metadata": {},
     "output_type": "execute_result"
    },
    {
     "data": {
      "image/png": "[encoded data removed]",
      "text/plain": [
       "<Figure size 432x288 with 1 Axes>"
      ]
     },
     "metadata": {},
     "output_type": "display_data"
    }
   ],
   "source": [
    "sns.set()\n",
    "plt.plot(kl_hist)"
   ]
  },
  {
   "cell_type": "code",
   "execution_count": 41,
   "metadata": {},
   "outputs": [
    {
     "data": {
      "text/plain": [
       "[<matplotlib.lines.Line2D at 0x7f257a216048>]"
      ]
     },
     "execution_count": 41,
     "metadata": {},
     "output_type": "execute_result"
    },
    {
     "data": {
      "image/png": "[encoded data removed]",
      "text/plain": [
       "<Figure size 432x288 with 1 Axes>"
      ]
     },
     "metadata": {},
     "output_type": "display_data"
    }
   ],
   "source": [
    "sns.set()\n",
    "plt.plot(true_kl)"
   ]
  },
  {
   "cell_type": "code",
   "execution_count": 42,
   "metadata": {},
   "outputs": [
    {
     "data": {
      "text/plain": [
       "<matplotlib.axes._subplots.AxesSubplot at 0x7f257a20bc18>"
      ]
     },
     "execution_count": 42,
     "metadata": {},
     "output_type": "execute_result"
    },
    {
     "data": {
      "image/png": "[encoded data removed]",
      "text/plain": [
       "<Figure size 432x288 with 1 Axes>"
      ]
     },
     "metadata": {},
     "output_type": "display_data"
    }
   ],
   "source": [
    "sns.set()\n",
    "sns.distplot(all_diff)"
   ]
  },
  {
   "cell_type": "code",
   "execution_count": 43,
   "metadata": {},
   "outputs": [],
   "source": [
    "all_diff = []\n",
    "for i, (x_i, x_j, _) in enumerate(train_loader):\n",
    "\n",
    "    diff = torch.abs(x_i - x_j)\n",
    "    diff = diff.view(-1, 1).mean()\n",
    "    all_diff.append(diff)"
   ]
  },
  {
   "cell_type": "code",
   "execution_count": 44,
   "metadata": {},
   "outputs": [
    {
     "data": {
      "text/plain": [
       "<matplotlib.axes._subplots.AxesSubplot at 0x7f25707a8a20>"
      ]
     },
     "execution_count": 44,
     "metadata": {},
     "output_type": "execute_result"
    },
    {
     "data": {
      "image/png": "[encoded data removed]",
      "text/plain": [
       "<Figure size 432x288 with 1 Axes>"
      ]
     },
     "metadata": {},
     "output_type": "display_data"
    }
   ],
   "source": [
    "sns.distplot(all_diff)"
   ]
  },
  {
   "cell_type": "code",
   "execution_count": null,
   "metadata": {},
   "outputs": [],
   "source": []
  }
 ],
 "metadata": {
  "kernelspec": {
   "display_name": "Python 3",
   "language": "python",
   "name": "python3"
  },
  "language_info": {
   "codemirror_mode": {
    "name": "ipython",
    "version": 3
   },
   "file_extension": ".py",
   "mimetype": "text/x-python",
   "name": "python",
   "nbconvert_exporter": "python",
   "pygments_lexer": "ipython3",
   "version": "3.6.8"
  }
 },
 "nbformat": 4,
 "nbformat_minor": 2
}
