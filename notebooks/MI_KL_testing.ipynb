{
 "cells": [
  {
   "cell_type": "code",
   "execution_count": 16,
   "metadata": {},
   "outputs": [
    {
     "name": "stdout",
     "output_type": "stream",
     "text": [
      "The autoreload extension is already loaded. To reload it, use:\n",
      "  %reload_ext autoreload\n"
     ]
    }
   ],
   "source": [
    "import sys\n",
    "sys.path.append('../')\n",
    "\n",
    "import torch\n",
    "import torch.nn as nn\n",
    "from torch.optim import Adam, SGD\n",
    "from torch.utils.data import DataLoader\n",
    "from torch.utils.data import sampler\n",
    "\n",
    "import torchvision.datasets as dset\n",
    "import torchvision.transforms as T\n",
    "import torch.nn.functional as F\n",
    "import torch.distributions as D\n",
    "\n",
    "import numpy as np\n",
    "import pandas as pd\n",
    "import os\n",
    "import glob\n",
    "import tqdm\n",
    "import matplotlib.pyplot as plt\n",
    "import seaborn as sns\n",
    "import sklearn\n",
    "\n",
    "eps = np.finfo(float).eps\n",
    "\n",
    "plt.rcParams['figure.figsize'] = 10, 10\n",
    "%matplotlib inline\n",
    "\n",
    "%load_ext autoreload\n",
    "%autoreload 2"
   ]
  },
  {
   "cell_type": "code",
   "execution_count": 94,
   "metadata": {},
   "outputs": [],
   "source": [
    "class SimpleNet(nn.Module):\n",
    "    def __init__(self):\n",
    "        super(SimpleNet, self).__init__()\n",
    "        self.fc = nn.Linear(256, 1)\n",
    "\n",
    "    def forward(self, x):\n",
    "        mu = self.fc(x)\n",
    "        return mu\n",
    "    \n",
    "def init_normal(m):\n",
    "    if type(m) == nn.Linear:\n",
    "        torch.nn.init.normal_(m.weight)\n",
    "        m.bias.data.fill_(0.001)"
   ]
  },
  {
   "cell_type": "code",
   "execution_count": 145,
   "metadata": {},
   "outputs": [],
   "source": [
    "def kl_loss_funct(mu_i, std_i, mu_j, std_j):\n",
    "    \n",
    "    p_i = D.independent.Independent(D.normal.Normal(mu_i, std_i), 1)\n",
    "    p_j = D.independent.Independent(D.normal.Normal(mu_j, std_j), 1)\n",
    "\n",
    "    z_i = p_i.rsample()\n",
    "    z_j = p_j.rsample()\n",
    "\n",
    "    kl_1_2 = p_i.log_prob(z_i) - p_j.log_prob(z_i)\n",
    "    kl_2_1 = p_j.log_prob(z_j) - p_i.log_prob(z_j)\n",
    "    \n",
    "    kl_loss = (kl_1_2 + kl_2_1).mean() / 2\n",
    "    return kl_loss"
   ]
  },
  {
   "cell_type": "code",
   "execution_count": 149,
   "metadata": {},
   "outputs": [],
   "source": [
    "def simulate():\n",
    "    mu1 = 0.\n",
    "    mu2 = 0.5\n",
    "    std1 = 1.\n",
    "    std2 = 1.5\n",
    "\n",
    "    x_i = torch.randn(32, 1, 256)\n",
    "    x_j = (x_i + mu2) * std2\n",
    "\n",
    "    mi = 1/2 *(np.log(1. + ( 1/(std2 ** 2) )))\n",
    "    kl = np.log(std2 / std1) + (std1 ** 2 + (mu1 - mu2) ** 2) / (2 * std2 ** 2) - 0.5\n",
    "\n",
    "#     print('The theoretical mi: {}'.format(mi))\n",
    "#     print('The theoretical kl: {}'.format(kl))\n",
    "\n",
    "    mu_i = torch.mean(x_i, 2)\n",
    "    std_i = torch.std(x_i, 2)\n",
    "\n",
    "    mu_j = torch.mean(x_j, 2)\n",
    "    std_j = torch.std(x_j, 2)\n",
    "\n",
    "    kl1 = kl_loss_funct(mu_i, std_i, mu_j, std_j)\n",
    "#     print('The kl func: {}'.format(kl1))\n",
    "\n",
    "    model = SimpleNet()\n",
    "    model.apply(init_normal)\n",
    "\n",
    "    mu_i = model(x_i).detach().squeeze(1)\n",
    "    mu_j = model(x_j).detach().squeeze(1)\n",
    "\n",
    "    kl2 = kl_loss_funct(mu_i, std_i, mu_j, std_j)\n",
    "#     print('The kl model func: {}'.format(kl2))\n",
    "    return kl1, kl2\n",
    "\n",
    "\n",
    "all_kl1 = []\n",
    "all_kl2 = []\n",
    "for _ in range(1000):\n",
    "    kl1, kl2 = simulate()\n",
    "    all_kl1.append(kl1)\n",
    "    all_kl2.append(kl2)"
   ]
  },
  {
   "cell_type": "code",
   "execution_count": 150,
   "metadata": {},
   "outputs": [
    {
     "data": {
      "text/plain": [
       "<matplotlib.axes._subplots.AxesSubplot at 0x1390402d0>"
      ]
     },
     "execution_count": 150,
     "metadata": {},
     "output_type": "execute_result"
    },
    {
     "data": {
      "image/png": "[encoded data removed]",
      "text/plain": [
       "<Figure size 432x288 with 1 Axes>"
      ]
     },
     "metadata": {
      "needs_background": "light"
     },
     "output_type": "display_data"
    }
   ],
   "source": [
    "sns.distplot(all_kl1)"
   ]
  },
  {
   "cell_type": "code",
   "execution_count": 151,
   "metadata": {},
   "outputs": [
    {
     "data": {
      "text/plain": [
       "<matplotlib.axes._subplots.AxesSubplot at 0x13914ab50>"
      ]
     },
     "execution_count": 151,
     "metadata": {},
     "output_type": "execute_result"
    },
    {
     "data": {
      "image/png": "[encoded data removed]",
      "text/plain": [
       "<Figure size 432x288 with 1 Axes>"
      ]
     },
     "metadata": {
      "needs_background": "light"
     },
     "output_type": "display_data"
    }
   ],
   "source": [
    "sns.distplot(all_kl2)"
   ]
  },
  {
   "cell_type": "code",
   "execution_count": 155,
   "metadata": {},
   "outputs": [],
   "source": [
    "model = SimpleNet()\n",
    "model.apply(init_normal)\n",
    "n_epoch = 1000\n",
    "\n",
    "optimizer = torch.optim.Adam(model.parameters(), lr=0.01)\n",
    "\n",
    "kl_hist = []\n",
    "for epoch in range(n_epoch):\n",
    "\n",
    "    mu1 = 0.\n",
    "    mu2 = 0.5\n",
    "    std1 = 1.\n",
    "    std2 = 1.5\n",
    "\n",
    "    x_i = torch.randn(32, 1, 256)\n",
    "    x_j = (x_i + mu2) * std2\n",
    "    \n",
    "    mu_i = model(x_i).squeeze(1)\n",
    "    mu_j = model(x_j).squeeze(1)\n",
    "    \n",
    "    std_i = torch.std(x_i, 2)\n",
    "    std_j = torch.std(x_j, 2)\n",
    "\n",
    "    kl2 = kl_loss_funct(mu_i, std_i, mu_j, std_j)\n",
    "\n",
    "    model.zero_grad()\n",
    "    kl2.backward()\n",
    "    optimizer.step()\n",
    "    \n",
    "    kl_hist.append(kl2.item())\n"
   ]
  },
  {
   "cell_type": "code",
   "execution_count": 157,
   "metadata": {},
   "outputs": [
    {
     "data": {
      "text/plain": [
       "[<matplotlib.lines.Line2D at 0x139334bd0>]"
      ]
     },
     "execution_count": 157,
     "metadata": {},
     "output_type": "execute_result"
    },
    {
     "data": {
      "image/png": "[encoded data removed]",
      "text/plain": [
       "<Figure size 432x288 with 1 Axes>"
      ]
     },
     "metadata": {},
     "output_type": "display_data"
    }
   ],
   "source": [
    "sns.set()\n",
    "plt.plot(kl_hist)"
   ]
  },
  {
   "cell_type": "code",
   "execution_count": null,
   "metadata": {},
   "outputs": [],
   "source": []
  }
 ],
 "metadata": {
  "kernelspec": {
   "display_name": "Python 3",
   "language": "python",
   "name": "python3"
  },
  "language_info": {
   "codemirror_mode": {
    "name": "ipython",
    "version": 3
   },
   "file_extension": ".py",
   "mimetype": "text/x-python",
   "name": "python",
   "nbconvert_exporter": "python",
   "pygments_lexer": "ipython3",
   "version": "3.7.4"
  }
 },
 "nbformat": 4,
 "nbformat_minor": 2
}
