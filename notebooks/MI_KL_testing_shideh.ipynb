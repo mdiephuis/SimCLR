{
 "cells": [
  {
   "cell_type": "code",
   "execution_count": 1,
   "metadata": {},
   "outputs": [],
   "source": [
    "import sys\n",
    "sys.path.append('../')\n",
    "\n",
    "import torch\n",
    "import torch.nn as nn\n",
    "from torch.optim import Adam, SGD\n",
    "from torch.utils.data import DataLoader\n",
    "from torch.utils.data import sampler\n",
    "\n",
    "import torchvision.datasets as dset\n",
    "import torchvision.transforms as T\n",
    "import torch.nn.functional as F\n",
    "import torch.distributions as D\n",
    "\n",
    "import numpy as np\n",
    "import pandas as pd\n",
    "import os\n",
    "import glob\n",
    "import tqdm\n",
    "import matplotlib.pyplot as plt\n",
    "import seaborn as sns\n",
    "import sklearn\n",
    "\n",
    "from data import *\n",
    "from simple_models import *\n",
    "\n",
    "eps = np.finfo(float).eps\n",
    "\n",
    "plt.rcParams['figure.figsize'] = 10, 10\n",
    "%matplotlib inline\n",
    "\n",
    "%load_ext autoreload\n",
    "%autoreload 2"
   ]
  },
  {
   "cell_type": "code",
   "execution_count": 2,
   "metadata": {},
   "outputs": [
    {
     "name": "stdout",
     "output_type": "stream",
     "text": [
      "GPU\n"
     ]
    }
   ],
   "source": [
    "use_cuda = True\n",
    "\n",
    "if use_cuda:\n",
    "    dtype = torch.cuda.FloatTensor\n",
    "    device = torch.device(\"cuda\")\n",
    "    torch.cuda.set_device(0)\n",
    "    print('GPU')\n",
    "else:\n",
    "    dtype = torch.FloatTensor\n",
    "    device = torch.device(\"cpu\")"
   ]
  },
  {
   "cell_type": "code",
   "execution_count": 3,
   "metadata": {},
   "outputs": [],
   "source": [
    " # Get train and test loaders for dataset\n",
    "train_transforms = mnist_train_transforms()\n",
    "test_transforms = mnist_test_transforms()\n",
    "target_transforms = None\n",
    "\n",
    "loader = Loader('MNISTC', '../data', True, 32, train_transforms, test_transforms, \n",
    "                target_transforms, use_cuda)\n",
    "train_loader = loader.train_loader\n",
    "test_loader = loader.test_loader"
   ]
  },
  {
   "cell_type": "code",
   "execution_count": 4,
   "metadata": {},
   "outputs": [],
   "source": [
    "encoder = MNIST_Encoder(28 * 28, 64).type(dtype)\n",
    "mi_estimator = MiEstimator(64, 64, 128).type(dtype)\n",
    "\n",
    "E_optim = Adam(encoder.parameters(), lr=1e-3)\n",
    "MI_optim = Adam(mi_estimator.parameters(), lr=1e-3)"
   ]
  },
  {
   "cell_type": "code",
   "execution_count": 5,
   "metadata": {},
   "outputs": [
    {
     "name": "stdout",
     "output_type": "stream",
     "text": [
      "Epoch: 0\n",
      "Epoch: 1\n",
      "Epoch: 2\n",
      "Epoch: 3\n",
      "Epoch: 4\n",
      "Epoch: 5\n",
      "Epoch: 6\n",
      "Epoch: 7\n",
      "Epoch: 8\n",
      "Epoch: 9\n"
     ]
    }
   ],
   "source": [
    "num_epochs = 10\n",
    "beta = 1.\n",
    "\n",
    "loss_hist = []\n",
    "\n",
    "encoder.train()\n",
    "mi_estimator.train()\n",
    "\n",
    "for epoch in range(num_epochs):\n",
    "    print(\"Epoch: {}\".format(epoch))\n",
    "    batch_loss = 0.\n",
    "    for ind, (xi, xj, _) in enumerate(train_loader):\n",
    "        \n",
    "        xi = xi.cuda() if use_cuda else xi\n",
    "        xj = xj.cuda() if use_cuda else xj\n",
    "\n",
    "        # Encoder forward\n",
    "        p_xi_vi = encoder(xi)\n",
    "        p_xj_vj = encoder(xj)\n",
    "\n",
    "        # Sample\n",
    "        zi = p_xi_vi.rsample()\n",
    "        zj = p_xj_vj.rsample()\n",
    "\n",
    "        # MI gradient\n",
    "        mi_grad, mi_out = mi_estimator(zi, zj)\n",
    "        mi_grad *= -1\n",
    "\n",
    "        mi_estimator.zero_grad()\n",
    "        mi_grad.backward(retain_graph=True)\n",
    "        MI_optim.step()\n",
    "        \n",
    "        # Symmetric KL\n",
    "        kl_1_2 = p_xi_vi.log_prob(zi) - p_xj_vj.log_prob(zi)\n",
    "        kl_2_1 = p_xj_vj.log_prob(zj) - p_xi_vi.log_prob(zj)\n",
    "        skl = (kl_1_2 + kl_2_1).mean() / 2.\n",
    "\n",
    "        loss = mi_grad + beta * skl\n",
    "        \n",
    "        encoder.zero_grad()\n",
    "        loss.backward()\n",
    "        E_optim.step()\n",
    "\n",
    "        batch_loss += (loss.item() / xi.size(0))\n",
    "    \n",
    "    loss_hist.append(batch_loss / (ind + 1))"
   ]
  },
  {
   "cell_type": "code",
   "execution_count": 6,
   "metadata": {},
   "outputs": [
    {
     "data": {
      "text/plain": [
       "[<matplotlib.lines.Line2D at 0x7f5a8c9efd68>]"
      ]
     },
     "execution_count": 6,
     "metadata": {},
     "output_type": "execute_result"
    },
    {
     "data": {
      "image/png": "[encoded data removed]",
      "text/plain": [
       "<Figure size 432x288 with 1 Axes>"
      ]
     },
     "metadata": {},
     "output_type": "display_data"
    }
   ],
   "source": [
    "sns.set()\n",
    "plt.plot(loss_hist)"
   ]
  },
  {
   "cell_type": "markdown",
   "metadata": {},
   "source": [
    "### Possitive Negative pairs KL approach"
   ]
  },
  {
   "cell_type": "code",
   "execution_count": 30,
   "metadata": {},
   "outputs": [],
   "source": [
    "encoder = MNIST_Encoder(28 * 28, 64).type(dtype)\n",
    "mi_estimator = MiEstimator(64, 64, 128).type(dtype)\n",
    "\n",
    "E_optim = Adam(encoder.parameters(), lr=1e-3)\n",
    "MI_optim = Adam(mi_estimator.parameters(), lr=1e-3)"
   ]
  },
  {
   "cell_type": "code",
   "execution_count": 7,
   "metadata": {},
   "outputs": [
    {
     "name": "stdout",
     "output_type": "stream",
     "text": [
      "Epoch: 0\n",
      "Epoch: 1\n",
      "Epoch: 2\n",
      "Epoch: 3\n",
      "Epoch: 4\n",
      "Epoch: 5\n",
      "Epoch: 6\n",
      "Epoch: 7\n",
      "Epoch: 8\n",
      "Epoch: 9\n"
     ]
    }
   ],
   "source": [
    "num_epochs = 10\n",
    "beta1 = 1e-2\n",
    "beta2 = 1e-5\n",
    "\n",
    "loss_hist = []\n",
    "skl_neg_hist = []\n",
    "skl_pos_hist = []\n",
    "mi_hist = []\n",
    "\n",
    "encoder.train()\n",
    "mi_estimator.train()\n",
    "\n",
    "for epoch in range(num_epochs):\n",
    "    print(\"Epoch: {}\".format(epoch))\n",
    "    batch_loss = 0.\n",
    "    batch_skl_neg_loss = 0.\n",
    "    batch_skl_pos_loss = 0.\n",
    "    for ind, (xi, xj, _) in enumerate(train_loader):\n",
    "        b_sz = xi.size(0)\n",
    "        \n",
    "        xi = xi.cuda() if use_cuda else xi\n",
    "        xj = xj.cuda() if use_cuda else xj\n",
    "        \n",
    "        # Encoder forward\n",
    "        p_xi = encoder(xi)\n",
    "        p_xj = encoder(xj)\n",
    "\n",
    "        # Sample\n",
    "        zi = p_xi.rsample()\n",
    "        zj = p_xj.rsample()\n",
    "\n",
    "        # MI gradient\n",
    "        mi_grad, mi_out = mi_estimator(zi, zj)\n",
    "        mi_grad *= -1\n",
    "\n",
    "        mi_estimator.zero_grad()\n",
    "        mi_grad.backward(retain_graph=True)\n",
    "        MI_optim.step()\n",
    "        \n",
    "        # Positive and negative batches\n",
    "        xi_pos = xi[: b_sz // 2, :, :, :]\n",
    "        xj_pos = xj[: b_sz // 2, :, :, :]\n",
    "        \n",
    "        xi_neg = xi[b_sz // 2:, :, :, :]\n",
    "        xj_neg = xj[b_sz // 2:, :, :, :]\n",
    "        xj_neg = torch.roll(xj_neg, 1, 0)\n",
    "        \n",
    "        # forwrad\n",
    "        p_xi_pos = encoder(xi_pos)\n",
    "        p_xj_pos = encoder(xj_pos)\n",
    "        \n",
    "        p_xi_neg = encoder(xi_neg)\n",
    "        p_xj_neg = encoder(xj_neg)\n",
    "\n",
    "        \n",
    "        # Sample\n",
    "        zi_pos = p_xi_pos.rsample()\n",
    "        zj_pos = p_xj_pos.rsample()\n",
    "\n",
    "        zi_neg = p_xi_neg.rsample()\n",
    "        zj_neg = p_xj_neg.rsample()\n",
    "        \n",
    "        # Positive and negative KL\n",
    "\n",
    "        kl_1_2_pos = p_xi_pos.log_prob(zi_pos) - p_xj_pos.log_prob(zi_pos)\n",
    "        kl_2_1_pos = p_xj_pos.log_prob(zj_pos) - p_xi_pos.log_prob(zj_pos)\n",
    "        skl_pos = (kl_1_2_pos + kl_2_1_pos).mean() / 2.\n",
    "        \n",
    "        kl_1_2_neg = p_xi_neg.log_prob(zi_neg) - p_xj_neg.log_prob(zi_neg)\n",
    "        kl_2_1_neg = p_xj_neg.log_prob(zj_neg) - p_xi_neg.log_prob(zj_neg)\n",
    "        skl_neg = (kl_1_2_neg + kl_2_1_neg).mean() / 2.\n",
    "\n",
    "\n",
    "        loss = mi_grad + beta1 * skl_pos - beta2 * skl_neg\n",
    "        \n",
    "        encoder.zero_grad()\n",
    "        loss.backward()\n",
    "        E_optim.step()\n",
    "\n",
    "        batch_loss += (loss.item() / xi.size(0))\n",
    "        batch_skl_neg_loss += (skl_neg.item() / xi.size(0))\n",
    "        batch_skl_pos_loss += (skl_pos.item() / xi.size(0))\n",
    "    \n",
    "    loss_hist.append(batch_loss / (ind + 1))\n",
    "    skl_neg_hist.append(batch_skl_neg_loss / (ind + 1))\n",
    "    skl_pos_hist.append(batch_skl_pos_loss / (ind + 1))\n"
   ]
  },
  {
   "cell_type": "code",
   "execution_count": 8,
   "metadata": {},
   "outputs": [
    {
     "data": {
      "text/plain": [
       "[0.04332417749961217,\n",
       " 0.04332307333747546,\n",
       " 0.043322024416923524,\n",
       " 0.04332238179445267,\n",
       " 0.04332224024732908,\n",
       " 0.043322161811590196,\n",
       " 0.04332284678220749,\n",
       " 0.04332280250787735,\n",
       " 0.043321931165456774,\n",
       " 0.043322116547822954]"
      ]
     },
     "execution_count": 8,
     "metadata": {},
     "output_type": "execute_result"
    }
   ],
   "source": [
    "loss_hist"
   ]
  },
  {
   "cell_type": "code",
   "execution_count": 9,
   "metadata": {},
   "outputs": [
    {
     "data": {
      "text/plain": [
       "[<matplotlib.lines.Line2D at 0x7f5a130e7898>]"
      ]
     },
     "execution_count": 9,
     "metadata": {},
     "output_type": "execute_result"
    },
    {
     "data": {
      "image/png": "[encoded data removed]",
      "text/plain": [
       "<Figure size 432x288 with 1 Axes>"
      ]
     },
     "metadata": {},
     "output_type": "display_data"
    }
   ],
   "source": [
    "sns.set()\n",
    "plt.plot(loss_hist)"
   ]
  },
  {
   "cell_type": "code",
   "execution_count": 10,
   "metadata": {},
   "outputs": [
    {
     "data": {
      "text/plain": [
       "[<matplotlib.lines.Line2D at 0x7f5a18d7ea20>]"
      ]
     },
     "execution_count": 10,
     "metadata": {},
     "output_type": "execute_result"
    },
    {
     "data": {
      "image/png": "[encoded data removed]",
      "text/plain": [
       "<Figure size 432x288 with 1 Axes>"
      ]
     },
     "metadata": {},
     "output_type": "display_data"
    }
   ],
   "source": [
    "sns.set()\n",
    "plt.plot(skl_neg_hist)"
   ]
  },
  {
   "cell_type": "code",
   "execution_count": 11,
   "metadata": {},
   "outputs": [
    {
     "data": {
      "text/plain": [
       "[<matplotlib.lines.Line2D at 0x7f5a18c622b0>]"
      ]
     },
     "execution_count": 11,
     "metadata": {},
     "output_type": "execute_result"
    },
    {
     "data": {
      "image/png": "[encoded data removed]",
      "text/plain": [
       "<Figure size 432x288 with 1 Axes>"
      ]
     },
     "metadata": {},
     "output_type": "display_data"
    }
   ],
   "source": [
    "sns.set()\n",
    "plt.plot(skl_pos_hist)"
   ]
  },
  {
   "cell_type": "code",
   "execution_count": null,
   "metadata": {},
   "outputs": [],
   "source": [
    "sns.set()\n",
    "plt.plot(mi)"
   ]
  },
  {
   "cell_type": "code",
   "execution_count": 11,
   "metadata": {},
   "outputs": [
    {
     "name": "stdout",
     "output_type": "stream",
     "text": [
      "torch.Size([32, 1, 28, 28])\n"
     ]
    }
   ],
   "source": [
    "encoder = MNIST_Encoder(28 * 28, 64).type(dtype)\n",
    "\n",
    "xi, xj, _ = train_loader.__iter__().next()\n",
    "print(xi.size())\n",
    "xi = xi.cuda() if use_cuda else xi\n",
    "xj = xj.cuda() if use_cuda else xj\n",
    "\n",
    "p_xi_vi = encoder(xi)\n",
    "p_xj_vj = encoder(xj)\n",
    "\n",
    "# Sample\n",
    "zi = p_xi_vi.rsample()\n",
    "zj = p_xj_vj.rsample()\n",
    "zj_rolled = torch.roll(zj, 1, 0)\n",
    "\n",
    "kl_1_2_pos = p_xi_vi.log_prob(zi) - p_xj_vj.log_prob(zi)\n",
    "kl_2_1_pos = p_xj_vj.log_prob(zj) - p_xi_vi.log_prob(zj)\n",
    "\n",
    "kl_1_2_neg = p_xi_vi.log_prob(zi) - p_xj_vj.log_prob(zi)\n",
    "kl_2_1_neg = p_xj_vj.log_prob(zj) - p_xi_vi.log_prob(zj)\n"
   ]
  }
 ],
 "metadata": {
  "kernelspec": {
   "display_name": "Python 3",
   "language": "python",
   "name": "python3"
  },
  "language_info": {
   "codemirror_mode": {
    "name": "ipython",
    "version": 3
   },
   "file_extension": ".py",
   "mimetype": "text/x-python",
   "name": "python",
   "nbconvert_exporter": "python",
   "pygments_lexer": "ipython3",
   "version": "3.6.8"
  }
 },
 "nbformat": 4,
 "nbformat_minor": 2
}
